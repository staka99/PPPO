{
  "nbformat": 4,
  "nbformat_minor": 0,
  "metadata": {
    "colab": {
      "provenance": [],
      "authorship_tag": "ABX9TyM061NI32vp9OQGtQHs+2V2",
      "include_colab_link": true
    },
    "kernelspec": {
      "name": "python3",
      "display_name": "Python 3"
    },
    "language_info": {
      "name": "python"
    }
  },
  "cells": [
    {
      "cell_type": "markdown",
      "metadata": {
        "id": "view-in-github",
        "colab_type": "text"
      },
      "source": [
        "<a href=\"https://colab.research.google.com/github/staka99/PPPO/blob/main/IT_57_2018_Marko_Staka.ipynb\" target=\"_parent\"><img src=\"https://colab.research.google.com/assets/colab-badge.svg\" alt=\"Open In Colab\"/></a>"
      ]
    },
    {
      "cell_type": "markdown",
      "source": [
        " **Projektni zadatak iz predmeta Principi prezentacije i prepoznavanje oblika**\n",
        "\n",
        "\n",
        "\n"
      ],
      "metadata": {
        "id": "CiIJym-9dFca"
      }
    },
    {
      "cell_type": "markdown",
      "source": [
        "**Student: Marko Štaka, IT 57/2018**"
      ],
      "metadata": {
        "id": "iD168isgddhJ"
      }
    },
    {
      "cell_type": "markdown",
      "source": [
        "# **Detekcija lica**\n",
        "\n",
        "---"
      ],
      "metadata": {
        "id": "_cNyGFsXdScB"
      }
    },
    {
      "cell_type": "code",
      "source": [
        "1+1"
      ],
      "metadata": {
        "colab": {
          "base_uri": "https://localhost:8080/"
        },
        "id": "WhfO7weLi1dx",
        "outputId": "3c1a9f0e-d6df-4292-b52c-a61079fac2cf"
      },
      "execution_count": 1,
      "outputs": [
        {
          "output_type": "execute_result",
          "data": {
            "text/plain": [
              "2"
            ]
          },
          "metadata": {},
          "execution_count": 1
        }
      ]
    }
  ]
}