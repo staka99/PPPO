{
  "nbformat": 4,
  "nbformat_minor": 0,
  "metadata": {
    "colab": {
      "provenance": [],
      "authorship_tag": "ABX9TyM989T6ogCoTwl39tP+upIF",
      "include_colab_link": true
    },
    "kernelspec": {
      "name": "python3",
      "display_name": "Python 3"
    },
    "language_info": {
      "name": "python"
    }
  },
  "cells": [
    {
      "cell_type": "markdown",
      "metadata": {
        "id": "view-in-github",
        "colab_type": "text"
      },
      "source": [
        "<a href=\"https://colab.research.google.com/github/staka99/PPPO/blob/main/IT_57_2018_Marko_Staka.ipynb\" target=\"_parent\"><img src=\"https://colab.research.google.com/assets/colab-badge.svg\" alt=\"Open In Colab\"/></a>"
      ]
    },
    {
      "cell_type": "markdown",
      "source": [
        " **Projektni zadatak iz predmeta Principi prezentacije i prepoznavanje oblika**\n",
        "\n",
        "\n",
        "\n"
      ],
      "metadata": {
        "id": "CiIJym-9dFca"
      }
    },
    {
      "cell_type": "markdown",
      "source": [
        "**Student: Marko Štaka, IT 57/2018**"
      ],
      "metadata": {
        "id": "iD168isgddhJ"
      }
    },
    {
      "cell_type": "markdown",
      "source": [
        "# **Detekcija lica**\n",
        "\n",
        "---"
      ],
      "metadata": {
        "id": "_cNyGFsXdScB"
      }
    }
  ]
}